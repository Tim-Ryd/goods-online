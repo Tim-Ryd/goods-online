{
 "cells": [
  {
   "cell_type": "code",
   "execution_count": 1,
   "id": "43f1a6d1",
   "metadata": {},
   "outputs": [
    {
     "name": "stdout",
     "output_type": "stream",
     "text": [
      "<function revenue_by_category at 0x000001A28874D940>\n"
     ]
    }
   ],
   "source": [
    "import sys\n",
    "sys.path.append('../')\n",
    "\n",
    "from src.metrics import revenue_by_category\n",
    "\n",
    "print(revenue_by_category)\n"
   ]
  },
  {
   "cell_type": "code",
   "execution_count": 2,
   "id": "69558c7b",
   "metadata": {},
   "outputs": [
    {
     "data": {
      "text/html": [
       "<div>\n",
       "<style scoped>\n",
       "    .dataframe tbody tr th:only-of-type {\n",
       "        vertical-align: middle;\n",
       "    }\n",
       "\n",
       "    .dataframe tbody tr th {\n",
       "        vertical-align: top;\n",
       "    }\n",
       "\n",
       "    .dataframe thead th {\n",
       "        text-align: right;\n",
       "    }\n",
       "</style>\n",
       "<table border=\"1\" class=\"dataframe\">\n",
       "  <thead>\n",
       "    <tr style=\"text-align: right;\">\n",
       "      <th></th>\n",
       "      <th>order_id</th>\n",
       "      <th>date</th>\n",
       "      <th>city</th>\n",
       "      <th>category</th>\n",
       "      <th>price</th>\n",
       "      <th>units</th>\n",
       "      <th>revenue</th>\n",
       "    </tr>\n",
       "  </thead>\n",
       "  <tbody>\n",
       "    <tr>\n",
       "      <th>0</th>\n",
       "      <td>100000</td>\n",
       "      <td>2024-04-19</td>\n",
       "      <td>Stockholm</td>\n",
       "      <td>Sports</td>\n",
       "      <td>530.95</td>\n",
       "      <td>4</td>\n",
       "      <td>2123.80</td>\n",
       "    </tr>\n",
       "    <tr>\n",
       "      <th>1</th>\n",
       "      <td>100001</td>\n",
       "      <td>2024-05-06</td>\n",
       "      <td>Malmö</td>\n",
       "      <td>Sports</td>\n",
       "      <td>653.28</td>\n",
       "      <td>3</td>\n",
       "      <td>1959.84</td>\n",
       "    </tr>\n",
       "    <tr>\n",
       "      <th>2</th>\n",
       "      <td>100002</td>\n",
       "      <td>2024-03-07</td>\n",
       "      <td>Uppsala</td>\n",
       "      <td>Clothing</td>\n",
       "      <td>177.98</td>\n",
       "      <td>4</td>\n",
       "      <td>711.92</td>\n",
       "    </tr>\n",
       "    <tr>\n",
       "      <th>3</th>\n",
       "      <td>100003</td>\n",
       "      <td>2024-04-08</td>\n",
       "      <td>Göteborg</td>\n",
       "      <td>Home</td>\n",
       "      <td>348.57</td>\n",
       "      <td>3</td>\n",
       "      <td>1045.71</td>\n",
       "    </tr>\n",
       "    <tr>\n",
       "      <th>4</th>\n",
       "      <td>100004</td>\n",
       "      <td>2024-01-18</td>\n",
       "      <td>Uppsala</td>\n",
       "      <td>Electronics</td>\n",
       "      <td>777.07</td>\n",
       "      <td>3</td>\n",
       "      <td>2331.21</td>\n",
       "    </tr>\n",
       "  </tbody>\n",
       "</table>\n",
       "</div>"
      ],
      "text/plain": [
       "   order_id        date       city     category   price  units  revenue\n",
       "0    100000  2024-04-19  Stockholm       Sports  530.95      4  2123.80\n",
       "1    100001  2024-05-06      Malmö       Sports  653.28      3  1959.84\n",
       "2    100002  2024-03-07    Uppsala     Clothing  177.98      4   711.92\n",
       "3    100003  2024-04-08   Göteborg         Home  348.57      3  1045.71\n",
       "4    100004  2024-01-18    Uppsala  Electronics  777.07      3  2331.21"
      ]
     },
     "execution_count": 2,
     "metadata": {},
     "output_type": "execute_result"
    }
   ],
   "source": [
    "import pandas as pd\n",
    "\n",
    "# Läs in datafilen\n",
    "df = pd.read_csv(\"../data/ecommerce_sales.csv\")\n",
    "\n",
    "# Visa de första raderna för att bekräfta\n",
    "df.head()\n"
   ]
  },
  {
   "cell_type": "code",
   "execution_count": 3,
   "id": "1179ca77",
   "metadata": {},
   "outputs": [
    {
     "data": {
      "text/plain": [
       "{'Beauty': 163053.97,\n",
       " 'Clothing': 586744.91,\n",
       " 'Electronics': 1364228.07,\n",
       " 'Home': 511070.87,\n",
       " 'Sports': 734653.42,\n",
       " 'Toys': 143015.99}"
      ]
     },
     "execution_count": 3,
     "metadata": {},
     "output_type": "execute_result"
    }
   ],
   "source": [
    "revenue_dict = revenue_by_category(df)\n",
    "revenue_dict\n"
   ]
  }
 ],
 "metadata": {
  "kernelspec": {
   "display_name": "base",
   "language": "python",
   "name": "python3"
  },
  "language_info": {
   "codemirror_mode": {
    "name": "ipython",
    "version": 3
   },
   "file_extension": ".py",
   "mimetype": "text/x-python",
   "name": "python",
   "nbconvert_exporter": "python",
   "pygments_lexer": "ipython3",
   "version": "3.13.5"
  }
 },
 "nbformat": 4,
 "nbformat_minor": 5
}
