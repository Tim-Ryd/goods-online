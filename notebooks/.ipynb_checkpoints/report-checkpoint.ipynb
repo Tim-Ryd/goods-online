{
 "cells": [
  {
   "cell_type": "markdown",
   "id": "d31ae1f0",
   "metadata": {},
   "source": [
    "Nyckeltal Test"
   ]
  },
  {
   "cell_type": "code",
   "execution_count": 1,
   "id": "5482ac96",
   "metadata": {},
   "outputs": [
    {
     "name": "stdout",
     "output_type": "stream",
     "text": [
      "      category     revenue\n",
      "2  Electronics  1364228.07\n",
      "4       Sports   734653.42\n",
      "1     Clothing   586744.91\n"
     ]
    },
    {
     "data": {
      "image/png": "[encoded data removed]",
      "text/plain": [
       "<Figure size 500x500 with 1 Axes>"
      ]
     },
     "metadata": {},
     "output_type": "display_data"
    }
   ],
   "source": [
    "from src import metrics, viz,io_utils\n",
    "\n",
    "sales_data_df = io_utils.load_data(\"data/ecommerce_sales.csv\")\n",
    "\n",
    "print(metrics.top_3_category_by_revenue(sales_data_df))\n",
    "\n",
    "viz.top_3_category_by_revenue_graph(sales_data_df)"
   ]
  },
  {
   "cell_type": "markdown",
   "id": "44791819",
   "metadata": {},
   "source": [
    "## Datakontroll och Städning (Salam)\n",
    "Rensar kolumnnamn, tar bort tomma värden och säkerställer att intäkterna är numeriska."
   ]
  },
  {
   "cell_type": "code",
   "execution_count": 14,
   "id": "e1abb658",
   "metadata": {},
   "outputs": [
    {
     "data": {
      "text/html": [
       "<div>\n",
       "<style scoped>\n",
       "    .dataframe tbody tr th:only-of-type {\n",
       "        vertical-align: middle;\n",
       "    }\n",
       "\n",
       "    .dataframe tbody tr th {\n",
       "        vertical-align: top;\n",
       "    }\n",
       "\n",
       "    .dataframe thead th {\n",
       "        text-align: right;\n",
       "    }\n",
       "</style>\n",
       "<table border=\"1\" class=\"dataframe\">\n",
       "  <thead>\n",
       "    <tr style=\"text-align: right;\">\n",
       "      <th></th>\n",
       "      <th>order_id</th>\n",
       "      <th>date</th>\n",
       "      <th>city</th>\n",
       "      <th>category</th>\n",
       "      <th>price</th>\n",
       "      <th>units</th>\n",
       "      <th>revenue</th>\n",
       "    </tr>\n",
       "  </thead>\n",
       "  <tbody>\n",
       "    <tr>\n",
       "      <th>0</th>\n",
       "      <td>100000</td>\n",
       "      <td>2024-04-19</td>\n",
       "      <td>Stockholm</td>\n",
       "      <td>Sports</td>\n",
       "      <td>530.95</td>\n",
       "      <td>4</td>\n",
       "      <td>2123.80</td>\n",
       "    </tr>\n",
       "    <tr>\n",
       "      <th>1</th>\n",
       "      <td>100001</td>\n",
       "      <td>2024-05-06</td>\n",
       "      <td>Malmö</td>\n",
       "      <td>Sports</td>\n",
       "      <td>653.28</td>\n",
       "      <td>3</td>\n",
       "      <td>1959.84</td>\n",
       "    </tr>\n",
       "    <tr>\n",
       "      <th>2</th>\n",
       "      <td>100002</td>\n",
       "      <td>2024-03-07</td>\n",
       "      <td>Uppsala</td>\n",
       "      <td>Clothing</td>\n",
       "      <td>177.98</td>\n",
       "      <td>4</td>\n",
       "      <td>711.92</td>\n",
       "    </tr>\n",
       "    <tr>\n",
       "      <th>3</th>\n",
       "      <td>100003</td>\n",
       "      <td>2024-04-08</td>\n",
       "      <td>Göteborg</td>\n",
       "      <td>Home</td>\n",
       "      <td>348.57</td>\n",
       "      <td>3</td>\n",
       "      <td>1045.71</td>\n",
       "    </tr>\n",
       "    <tr>\n",
       "      <th>4</th>\n",
       "      <td>100004</td>\n",
       "      <td>2024-01-18</td>\n",
       "      <td>Uppsala</td>\n",
       "      <td>Electronics</td>\n",
       "      <td>777.07</td>\n",
       "      <td>3</td>\n",
       "      <td>2331.21</td>\n",
       "    </tr>\n",
       "  </tbody>\n",
       "</table>\n",
       "</div>"
      ],
      "text/plain": [
       "   order_id        date       city     category   price  units  revenue\n",
       "0    100000  2024-04-19  Stockholm       Sports  530.95      4  2123.80\n",
       "1    100001  2024-05-06      Malmö       Sports  653.28      3  1959.84\n",
       "2    100002  2024-03-07    Uppsala     Clothing  177.98      4   711.92\n",
       "3    100003  2024-04-08   Göteborg         Home  348.57      3  1045.71\n",
       "4    100004  2024-01-18    Uppsala  Electronics  777.07      3  2331.21"
      ]
     },
     "execution_count": 14,
     "metadata": {},
     "output_type": "execute_result"
    }
   ],
   "source": [
    "import pandas as pd\n",
    "sales_data_df.columns = sales_data_df.columns.str.strip().str.lower()\n",
    "sales_data_df['category'] = sales_data_df['category'].str.strip()\n",
    "sales_data_df = sales_data_df.dropna(subset=['category', 'revenue'])\n",
    "sales_data_df['revenue'] = pd.to_numeric(sales_data_df['revenue'], errors='coerce')\n",
    "\n",
    "sales_data_df.head()\n"
   ]
  },
  {
   "cell_type": "markdown",
   "id": "4570445f",
   "metadata": {},
   "source": [
    "## Analys av intäkter per kategori (Salam)\n"
   ]
  },
  {
   "cell_type": "code",
   "execution_count": 15,
   "id": "c13a28c2",
   "metadata": {},
   "outputs": [
    {
     "data": {
      "text/html": [
       "<div>\n",
       "<style scoped>\n",
       "    .dataframe tbody tr th:only-of-type {\n",
       "        vertical-align: middle;\n",
       "    }\n",
       "\n",
       "    .dataframe tbody tr th {\n",
       "        vertical-align: top;\n",
       "    }\n",
       "\n",
       "    .dataframe thead th {\n",
       "        text-align: right;\n",
       "    }\n",
       "</style>\n",
       "<table border=\"1\" class=\"dataframe\">\n",
       "  <thead>\n",
       "    <tr style=\"text-align: right;\">\n",
       "      <th></th>\n",
       "      <th>category</th>\n",
       "      <th>revenue</th>\n",
       "    </tr>\n",
       "  </thead>\n",
       "  <tbody>\n",
       "    <tr>\n",
       "      <th>2</th>\n",
       "      <td>Electronics</td>\n",
       "      <td>1364228.07</td>\n",
       "    </tr>\n",
       "    <tr>\n",
       "      <th>4</th>\n",
       "      <td>Sports</td>\n",
       "      <td>734653.42</td>\n",
       "    </tr>\n",
       "    <tr>\n",
       "      <th>1</th>\n",
       "      <td>Clothing</td>\n",
       "      <td>586744.91</td>\n",
       "    </tr>\n",
       "    <tr>\n",
       "      <th>3</th>\n",
       "      <td>Home</td>\n",
       "      <td>511070.87</td>\n",
       "    </tr>\n",
       "    <tr>\n",
       "      <th>0</th>\n",
       "      <td>Beauty</td>\n",
       "      <td>163053.97</td>\n",
       "    </tr>\n",
       "    <tr>\n",
       "      <th>5</th>\n",
       "      <td>Toys</td>\n",
       "      <td>143015.99</td>\n",
       "    </tr>\n",
       "  </tbody>\n",
       "</table>\n",
       "</div>"
      ],
      "text/plain": [
       "      category     revenue\n",
       "2  Electronics  1364228.07\n",
       "4       Sports   734653.42\n",
       "1     Clothing   586744.91\n",
       "3         Home   511070.87\n",
       "0       Beauty   163053.97\n",
       "5         Toys   143015.99"
      ]
     },
     "execution_count": 15,
     "metadata": {},
     "output_type": "execute_result"
    }
   ],
   "source": [
    "from src.metrics import revenue_per_category\n",
    "revenue_per_category(sales_data_df)\n"
   ]
  },
  {
   "cell_type": "markdown",
   "id": "f921ebbf",
   "metadata": {},
   "source": [
    "## Visualisering\n"
   ]
  },
  {
   "cell_type": "code",
   "execution_count": 17,
   "id": "0de7d857",
   "metadata": {},
   "outputs": [
    {
     "data": {
      "image/png": "[encoded data removed]",
      "text/plain": [
       "<Figure size 800x500 with 1 Axes>"
      ]
     },
     "metadata": {},
     "output_type": "display_data"
    }
   ],
   "source": [
    "import matplotlib.pyplot as plt\n",
    "\n",
    "sorted_df = sales_data_df.groupby('category')['revenue'].sum().reset_index().sort_values(by='revenue', ascending=True)\n",
    "\n",
    "plt.figure(figsize=(8,5))\n",
    "plt.barh(sorted_df['category'], sorted_df['revenue'], color='skyblue')\n",
    "plt.title(\"Intäkter per kategori (horisontellt)\", fontsize=14)\n",
    "plt.xlabel(\"Intäkt (SEK)\")\n",
    "plt.ylabel(\"Kategori\")\n",
    "plt.tight_layout()\n",
    "plt.show()\n"
   ]
  }
 ],
 "metadata": {
  "kernelspec": {
   "display_name": "base",
   "language": "python",
   "name": "python3"
  },
  "language_info": {
   "codemirror_mode": {
    "name": "ipython",
    "version": 3
   },
   "file_extension": ".py",
   "mimetype": "text/x-python",
   "name": "python",
   "nbconvert_exporter": "python",
   "pygments_lexer": "ipython3",
   "version": "3.13.5"
  }
 },
 "nbformat": 4,
 "nbformat_minor": 5
}
