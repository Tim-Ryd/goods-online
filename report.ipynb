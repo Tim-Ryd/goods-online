{
 "cells": [
  {
   "cell_type": "markdown",
   "id": "d31ae1f0",
   "metadata": {},
   "source": [
    "Nyckeltal Test"
   ]
  },
  {
   "cell_type": "code",
   "execution_count": null,
   "id": "5482ac96",
   "metadata": {},
   "outputs": [],
   "source": [
    "from src import metrics, viz, io_utils\n",
    "\n",
    "sales_data_df = io_utils.load_data(\"data/ecommerce_sales.csv\")\n",
    "\n",
    "print(metrics.top_3_category_by_revenue(sales_data_df))\n",
    "\n",
    "viz.top_3_category_by_revenue_graph(sales_data_df)"
   ]
  },
  {
   "cell_type": "code",
   "execution_count": null,
   "id": "6d59d1ed",
   "metadata": {},
   "outputs": [],
   "source": [
    "\n",
    "# Testar för top 3 datum med högst intäkter\n",
    "print(metrics.top_3_date_by_revenue(sales_data_df)) \n",
    "\n",
    "viz.top_3_date_by_revenue_graph(sales_data_df)\n",
    "\n"
   ]
  },
  {
   "cell_type": "code",
   "execution_count": null,
   "id": "8eb2e464",
   "metadata": {},
   "outputs": [],
   "source": [
    "print(metrics.month_by_month_revenue(sales_data_df))\n",
    "\n",
    "print(viz.month_by_month_revenue_graph(sales_data_df))"
   ]
  }
 ],
 "metadata": {
  "kernelspec": {
   "display_name": ".venv",
   "language": "python",
   "name": "python3"
  },
  "language_info": {
   "codemirror_mode": {
    "name": "ipython",
    "version": 3
   },
   "file_extension": ".py",
   "mimetype": "text/x-python",
   "name": "python",
   "nbconvert_exporter": "python",
   "pygments_lexer": "ipython3",
   "version": "3.13.7"
  }
 },
 "nbformat": 4,
 "nbformat_minor": 5
}
